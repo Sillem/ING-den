{
 "cells": [
  {
   "cell_type": "markdown",
   "metadata": {},
   "source": [
    "# LIONS DEN ING Feautre Engineering\n",
    "## Neuralna Ekipa"
   ]
  },
  {
   "cell_type": "markdown",
   "metadata": {},
   "source": [
    "Here we will propose few additional variables created from our own:\n",
    "1. how long had have been person employed before loan application (application date - employment date)\n",
    "2. proportion of installment amount to income of main applicant\n",
    "3. proportion of installment amount to average income\n",
    "4. proportion of installment amount to amount on current account + amount on savings amount\n",
    "5. income of main applicant / number of children + 1 (the applicant)\n",
    "6. income of main applicant / number of dependences + 1 (the applicant)\n",
    "7. installment amount / average income + value of the goods\n",
    "8. application amount / (value of the goods + amoutn on current account + amount of savings account)\n",
    "9. installment amount / income of main applicant + income of the second applicant\n",
    "10. number of children / 2 if married/informal relationship number of children /1 otherwise\n",
    "11. amount on savings account / amount on current account \n",
    "12. bureau score > 0?\n"
   ]
  },
  {
   "cell_type": "code",
   "execution_count": 2,
   "metadata": {},
   "outputs": [],
   "source": [
    "import pandas as pd\n",
    "from data_preparation.transform_features import FullDataTransformer\n",
    "train_data = pd.read_csv('https://files.challengerocket.com/files/lions-den-ing-2024/development_sample.csv')\n",
    "fdt = FullDataTransformer()\n",
    "fdt.fit_transform(train_data)"
   ]
  },
  {
   "cell_type": "code",
   "execution_count": 3,
   "metadata": {},
   "outputs": [
    {
     "data": {
      "text/plain": [
       "0         0\n",
       "1         0\n",
       "2        10\n",
       "3        10\n",
       "4        20\n",
       "         ..\n",
       "49995     0\n",
       "49996     0\n",
       "49997     0\n",
       "49998    10\n",
       "49999     0\n",
       "Name: Var29, Length: 50000, dtype: int64"
      ]
     },
     "execution_count": 3,
     "metadata": {},
     "output_type": "execute_result"
    }
   ],
   "source": [
    "train_data[\"Var29\"]"
   ]
  }
 ],
 "metadata": {
  "kernelspec": {
   "display_name": "base",
   "language": "python",
   "name": "python3"
  },
  "language_info": {
   "codemirror_mode": {
    "name": "ipython",
    "version": 3
   },
   "file_extension": ".py",
   "mimetype": "text/x-python",
   "name": "python",
   "nbconvert_exporter": "python",
   "pygments_lexer": "ipython3",
   "version": "3.10.13"
  }
 },
 "nbformat": 4,
 "nbformat_minor": 2
}
