{
 "cells": [
  {
   "cell_type": "code",
   "execution_count": 1,
   "id": "d2eb68c0-568b-4fee-a8d8-6505e56e74b2",
   "metadata": {},
   "outputs": [],
   "source": [
    "import pandas as pd\n",
    "import numpy as np\n",
    "from sklearn.utils import resample\n",
    "from sklearn.linear_model import LogisticRegression"
   ]
  },
  {
   "cell_type": "code",
   "execution_count": 2,
   "id": "3bd2f142-8662-43de-a921-31a3b4041c39",
   "metadata": {},
   "outputs": [
    {
     "data": {
      "text/plain": [
       "array([0.30995676, 0.10885252, 0.23054898, 0.98485195, 0.9769834 ,\n",
       "       1.00796666, 0.99444872, 1.78895644])"
      ]
     },
     "execution_count": 2,
     "metadata": {},
     "output_type": "execute_result"
    }
   ],
   "source": [
    "X_train = pd.read_pickle('C:\\\\Users\\\\ludwi\\\\ING-den\\\\Intermidiate_data\\\\x_train_logistic.pk')\n",
    "Y_train = pd.read_pickle('C:\\\\Users\\\\ludwi\\\\ING-den\\\\Intermidiate_data\\\\y_train_logistic.pk')\n",
    "logit = pd.read_pickle('C:\\\\Users\\\\ludwi\\\\ING-den\\\\Intermidiate_data\\\\model_logistic.pk')\n",
    "coef = logit.coef_\n",
    "coef = coef[0]\n",
    "coef"
   ]
  },
  {
   "cell_type": "code",
   "execution_count": 3,
   "id": "74de1851-3b58-467f-b690-b3c1ff4e0287",
   "metadata": {},
   "outputs": [
    {
     "name": "stdout",
     "output_type": "stream",
     "text": [
      "Standardowe błędy estymacji parametrów: [[0.02000954 0.02791658 0.02186769 0.13534906 0.13222878 0.0371167\n",
      "  0.12488495 0.08456828]]\n"
     ]
    }
   ],
   "source": [
    "\n",
    "#Załóżmy, że X to cechy, a y to etykiety\n",
    "\n",
    "#Dopasowanie oryginalnego modelu\n",
    "model = LogisticRegression()\n",
    "model.fit(X_train, Y_train)\n",
    "\n",
    "#Inicjalizacja listy na przechowanie oszacowań parametrów\n",
    "param_samples = []\n",
    "\n",
    "#Określenie liczby próbek bootstrap\n",
    "n_iterations = 1000  # Eksperymentuj z tą liczbą\n",
    "\n",
    "for i in range(n_iterations):\n",
    "    # Generowanie próbki bootstrap\n",
    "    X_sample, y_sample = resample(X_train, Y_train)\n",
    "    # Dopasowanie modelu do próbki bootstrap\n",
    "    model.fit(X_sample, y_sample)\n",
    "    # Zapisywanie współczynników\n",
    "    param_samples.append(model.coef_)\n",
    "\n",
    "#Obliczenie błędu oszacowań (np. standardowego odchylenia) dla każdego parametru\n",
    "param_samples = np.array(param_samples)\n",
    "std_error = np.std(param_samples, axis=0)\n",
    "print(f\"Standardowe błędy estymacji parametrów: {std_error}\")\n"
   ]
  },
  {
   "cell_type": "code",
   "execution_count": 4,
   "id": "2c393cf7-b315-4a1d-a330-e1cb0ecacdec",
   "metadata": {},
   "outputs": [
    {
     "data": {
      "text/plain": [
       "array([0.02000954, 0.02791658, 0.02186769, 0.13534906, 0.13222878,\n",
       "       0.0371167 , 0.12488495, 0.08456828])"
      ]
     },
     "execution_count": 4,
     "metadata": {},
     "output_type": "execute_result"
    }
   ],
   "source": [
    "std_error=std_error[0]\n",
    "std_error"
   ]
  },
  {
   "cell_type": "code",
   "execution_count": 14,
   "id": "45e45f61-ce16-457a-9cde-c0365d7095e7",
   "metadata": {},
   "outputs": [
    {
     "name": "stdout",
     "output_type": "stream",
     "text": [
      "[ 4.80137021  0.42443848  2.43065637  7.16616242  7.21852367 27.373038\n",
      "  7.91871427 37.84356514]\n",
      "[ True False False  True  True  True  True  True]\n"
     ]
    }
   ],
   "source": [
    "coef2 = coef**2\n",
    "coef2\n",
    "W = coef2/std_error\n",
    "#Wald Statistic\n",
    "W\n",
    "#value of chi^2 distibution for k =1 \n",
    "chisqrt = 3.841\n",
    "print(W)\n",
    "print(W>chisqrt)"
   ]
  }
 ],
 "metadata": {
  "kernelspec": {
   "display_name": "Python 3 (ipykernel)",
   "language": "python",
   "name": "python3"
  },
  "language_info": {
   "codemirror_mode": {
    "name": "ipython",
    "version": 3
   },
   "file_extension": ".py",
   "mimetype": "text/x-python",
   "name": "python",
   "nbconvert_exporter": "python",
   "pygments_lexer": "ipython3",
   "version": "3.12.2"
  }
 },
 "nbformat": 4,
 "nbformat_minor": 5
}
